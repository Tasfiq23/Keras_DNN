{
  "nbformat": 4,
  "nbformat_minor": 0,
  "metadata": {
    "colab": {
      "name": "Fashion_Mnist_DNN.ipynb",
      "provenance": [],
      "authorship_tag": "ABX9TyN427NsJihhW5pniqjDxFfL",
      "include_colab_link": true
    },
    "kernelspec": {
      "name": "python3",
      "display_name": "Python 3"
    },
    "language_info": {
      "name": "python"
    }
  },
  "cells": [
    {
      "cell_type": "markdown",
      "metadata": {
        "id": "view-in-github",
        "colab_type": "text"
      },
      "source": [
        "<a href=\"https://colab.research.google.com/github/Tasfiq23/Keras_DNN/blob/main/Fashion_Mnist_DNN.ipynb\" target=\"_parent\"><img src=\"https://colab.research.google.com/assets/colab-badge.svg\" alt=\"Open In Colab\"/></a>"
      ]
    },
    {
      "cell_type": "code",
      "metadata": {
        "id": "M5j5ruO7qf0H"
      },
      "source": [
        "import tensorflow as tf\n",
        "from tensorflow import keras"
      ],
      "execution_count": 18,
      "outputs": []
    },
    {
      "cell_type": "code",
      "metadata": {
        "id": "oL8r3GHTq00C"
      },
      "source": [
        "fashion_mnist = keras.datasets.fashion_mnist\n",
        "(X_train_full,y_train_full),(X_test,y_test) = fashion_mnist.load_data()"
      ],
      "execution_count": 19,
      "outputs": []
    },
    {
      "cell_type": "code",
      "metadata": {
        "colab": {
          "base_uri": "https://localhost:8080/"
        },
        "id": "-GV_B7RqrTu2",
        "outputId": "258fdc22-a746-4712-ce33-4bfd110cfe99"
      },
      "source": [
        "X_train_full.shape"
      ],
      "execution_count": 20,
      "outputs": [
        {
          "output_type": "execute_result",
          "data": {
            "text/plain": [
              "(60000, 28, 28)"
            ]
          },
          "metadata": {},
          "execution_count": 20
        }
      ]
    },
    {
      "cell_type": "code",
      "metadata": {
        "colab": {
          "base_uri": "https://localhost:8080/"
        },
        "id": "-b52tsRJraek",
        "outputId": "8cbc8955-28f1-499c-8c9b-abb841491b58"
      },
      "source": [
        "X_train_full.dtype"
      ],
      "execution_count": 21,
      "outputs": [
        {
          "output_type": "execute_result",
          "data": {
            "text/plain": [
              "dtype('uint8')"
            ]
          },
          "metadata": {},
          "execution_count": 21
        }
      ]
    },
    {
      "cell_type": "code",
      "metadata": {
        "id": "Jbvx4hzkrfes"
      },
      "source": [
        "X_val,X_train = X_train_full[:50000]/255.0,X_train_full[50000:]/255.0 #scaling the input by dividing by 255 that will down the pixel intensities to 0-1 \n",
        "y_val,y_train = y_train_full[:50000],y_train_full[50000:]\n"
      ],
      "execution_count": 22,
      "outputs": []
    },
    {
      "cell_type": "code",
      "metadata": {
        "id": "Jv46gI6h4pa5"
      },
      "source": [
        "class_names = [\"T-shirt/top\", \"Trouser\",\"Pullover\", \"Dress\",\"Coat\",\"Sandal\",\"Shirt\",\"Sneaker\",\"Bag\",\"Ankle boot\"]"
      ],
      "execution_count": 23,
      "outputs": []
    },
    {
      "cell_type": "code",
      "metadata": {
        "colab": {
          "base_uri": "https://localhost:8080/",
          "height": 35
        },
        "id": "wdnP_5rN5v0r",
        "outputId": "6b7aeb2d-8d0d-49df-9a93-a11aae71c93b"
      },
      "source": [
        "class_names[y_train[0]]"
      ],
      "execution_count": 24,
      "outputs": [
        {
          "output_type": "execute_result",
          "data": {
            "application/vnd.google.colaboratory.intrinsic+json": {
              "type": "string"
            },
            "text/plain": [
              "'Ankle boot'"
            ]
          },
          "metadata": {},
          "execution_count": 24
        }
      ]
    },
    {
      "cell_type": "code",
      "metadata": {
        "colab": {
          "base_uri": "https://localhost:8080/"
        },
        "id": "CnDffd0y53Q4",
        "outputId": "7b85ae78-b791-4c63-ef77-5d0390be9a15"
      },
      "source": [
        "fashion_mnist"
      ],
      "execution_count": 25,
      "outputs": [
        {
          "output_type": "execute_result",
          "data": {
            "text/plain": [
              "<module 'keras.api._v2.keras.datasets.fashion_mnist' from '/usr/local/lib/python3.7/dist-packages/keras/api/_v2/keras/datasets/fashion_mnist/__init__.py'>"
            ]
          },
          "metadata": {},
          "execution_count": 25
        }
      ]
    },
    {
      "cell_type": "markdown",
      "metadata": {
        "id": "ABxT3kU3_sF3"
      },
      "source": [
        "**Note:**It is recommended to specify the  input_shape when creating the first layer in a sequntial model. But it's okay if we don't. In that case Keras will simply wait until knows the input shape before it actually build the model.This will happen either during train where the data will be fed or when we call the build() method. until then the model wont have any weights and biases and it wont show any model summery."
      ]
    },
    {
      "cell_type": "code",
      "metadata": {
        "colab": {
          "base_uri": "https://localhost:8080/"
        },
        "id": "B8-L_uUI55Q3",
        "outputId": "d2028fbb-ec21-49fe-e91c-aac811e8fb12"
      },
      "source": [
        "model = keras.models.Sequential()\n",
        "model.add(keras.layers.Flatten(input_shape=[28,28])) #converting each input image into 1D array\n",
        "model.add(keras.layers.Dense(300,activation='relu'))\n",
        "model.add(keras.layers.Dense(100,activation='relu'))\n",
        "model.add(keras.layers.Dense(10,activation='softmax'))\n",
        "\n",
        "\n",
        "model.summary()"
      ],
      "execution_count": 26,
      "outputs": [
        {
          "output_type": "stream",
          "text": [
            "Model: \"sequential_1\"\n",
            "_________________________________________________________________\n",
            "Layer (type)                 Output Shape              Param #   \n",
            "=================================================================\n",
            "flatten_1 (Flatten)          (None, 784)               0         \n",
            "_________________________________________________________________\n",
            "dense_3 (Dense)              (None, 300)               235500    \n",
            "_________________________________________________________________\n",
            "dense_4 (Dense)              (None, 100)               30100     \n",
            "_________________________________________________________________\n",
            "dense_5 (Dense)              (None, 10)                1010      \n",
            "=================================================================\n",
            "Total params: 266,610\n",
            "Trainable params: 266,610\n",
            "Non-trainable params: 0\n",
            "_________________________________________________________________\n"
          ],
          "name": "stdout"
        }
      ]
    },
    {
      "cell_type": "markdown",
      "metadata": {
        "id": "yz0NSWnp_GKh"
      },
      "source": [
        "Below the weights are generated randomly to break the symmetry, and biases are initialised at 0. "
      ]
    },
    {
      "cell_type": "code",
      "metadata": {
        "colab": {
          "base_uri": "https://localhost:8080/"
        },
        "id": "SsfUmFAk8ndm",
        "outputId": "f5f5211b-6ca2-4466-e0b3-cd62486c2ba2"
      },
      "source": [
        "#accessing weights and biases of the model\n",
        "hidden1 = model.layers[1] #1st hidden layer\n",
        "weights,biases = hidden1.get_weights()\n",
        "print(weights.shape)\n",
        "print(weights)\n",
        "print(biases.shape)\n",
        "print(biases)"
      ],
      "execution_count": 27,
      "outputs": [
        {
          "output_type": "stream",
          "text": [
            "(784, 300)\n",
            "[[ 0.02501165 -0.01900874 -0.05235035 ...  0.01572484 -0.05342712\n",
            "   0.02354871]\n",
            " [ 0.0425458   0.05040672  0.03561842 ...  0.04751685 -0.06882669\n",
            "  -0.03804273]\n",
            " [ 0.02429014 -0.06192045  0.03788742 ... -0.04467931  0.04392889\n",
            "   0.04152877]\n",
            " ...\n",
            " [ 0.02114822 -0.05641159  0.01072343 ... -0.01271338 -0.0309219\n",
            "   0.04797257]\n",
            " [ 0.07102793 -0.01547927 -0.05185598 ...  0.01944583  0.01779997\n",
            "  -0.07242885]\n",
            " [ 0.03037696  0.04502916  0.07070319 ... -0.03512955 -0.0531929\n",
            "  -0.07111789]]\n",
            "(300,)\n",
            "[0. 0. 0. 0. 0. 0. 0. 0. 0. 0. 0. 0. 0. 0. 0. 0. 0. 0. 0. 0. 0. 0. 0. 0.\n",
            " 0. 0. 0. 0. 0. 0. 0. 0. 0. 0. 0. 0. 0. 0. 0. 0. 0. 0. 0. 0. 0. 0. 0. 0.\n",
            " 0. 0. 0. 0. 0. 0. 0. 0. 0. 0. 0. 0. 0. 0. 0. 0. 0. 0. 0. 0. 0. 0. 0. 0.\n",
            " 0. 0. 0. 0. 0. 0. 0. 0. 0. 0. 0. 0. 0. 0. 0. 0. 0. 0. 0. 0. 0. 0. 0. 0.\n",
            " 0. 0. 0. 0. 0. 0. 0. 0. 0. 0. 0. 0. 0. 0. 0. 0. 0. 0. 0. 0. 0. 0. 0. 0.\n",
            " 0. 0. 0. 0. 0. 0. 0. 0. 0. 0. 0. 0. 0. 0. 0. 0. 0. 0. 0. 0. 0. 0. 0. 0.\n",
            " 0. 0. 0. 0. 0. 0. 0. 0. 0. 0. 0. 0. 0. 0. 0. 0. 0. 0. 0. 0. 0. 0. 0. 0.\n",
            " 0. 0. 0. 0. 0. 0. 0. 0. 0. 0. 0. 0. 0. 0. 0. 0. 0. 0. 0. 0. 0. 0. 0. 0.\n",
            " 0. 0. 0. 0. 0. 0. 0. 0. 0. 0. 0. 0. 0. 0. 0. 0. 0. 0. 0. 0. 0. 0. 0. 0.\n",
            " 0. 0. 0. 0. 0. 0. 0. 0. 0. 0. 0. 0. 0. 0. 0. 0. 0. 0. 0. 0. 0. 0. 0. 0.\n",
            " 0. 0. 0. 0. 0. 0. 0. 0. 0. 0. 0. 0. 0. 0. 0. 0. 0. 0. 0. 0. 0. 0. 0. 0.\n",
            " 0. 0. 0. 0. 0. 0. 0. 0. 0. 0. 0. 0. 0. 0. 0. 0. 0. 0. 0. 0. 0. 0. 0. 0.\n",
            " 0. 0. 0. 0. 0. 0. 0. 0. 0. 0. 0. 0.]\n"
          ],
          "name": "stdout"
        }
      ]
    },
    {
      "cell_type": "code",
      "metadata": {
        "id": "zBzjxi3Y-jnd"
      },
      "source": [
        "#compile the model\n",
        "#sparse_categorical_crossentropy loss since there are sparse labels(for each instance,there is just a target  class index,0-9 in this case) and the classes are exclusive\n",
        "model.compile(loss='sparse_categorical_crossentropy',\n",
        "              optimizer='sgd',\n",
        "              metrics=[\"accuracy\"])"
      ],
      "execution_count": 28,
      "outputs": []
    },
    {
      "cell_type": "code",
      "metadata": {
        "colab": {
          "base_uri": "https://localhost:8080/"
        },
        "id": "p62yIZEKBWyP",
        "outputId": "f756c962-4813-41b4-f86d-233d90485103"
      },
      "source": [
        "history=model.fit(X_train,y_train,epochs=30,validation_data=(X_val,y_val))"
      ],
      "execution_count": 29,
      "outputs": [
        {
          "output_type": "stream",
          "text": [
            "Epoch 1/30\n",
            "313/313 [==============================] - 4s 12ms/step - loss: 1.2278 - accuracy: 0.6200 - val_loss: 0.8408 - val_accuracy: 0.7214\n",
            "Epoch 2/30\n",
            "313/313 [==============================] - 3s 10ms/step - loss: 0.7320 - accuracy: 0.7548 - val_loss: 0.6822 - val_accuracy: 0.7669\n",
            "Epoch 3/30\n",
            "313/313 [==============================] - 4s 11ms/step - loss: 0.6316 - accuracy: 0.7859 - val_loss: 0.5988 - val_accuracy: 0.8033\n",
            "Epoch 4/30\n",
            "313/313 [==============================] - 3s 11ms/step - loss: 0.5765 - accuracy: 0.7999 - val_loss: 0.6094 - val_accuracy: 0.7896\n",
            "Epoch 5/30\n",
            "313/313 [==============================] - 4s 12ms/step - loss: 0.5429 - accuracy: 0.8132 - val_loss: 0.5438 - val_accuracy: 0.8184\n",
            "Epoch 6/30\n",
            "313/313 [==============================] - 4s 12ms/step - loss: 0.5146 - accuracy: 0.8191 - val_loss: 0.5037 - val_accuracy: 0.8301\n",
            "Epoch 7/30\n",
            "313/313 [==============================] - 3s 10ms/step - loss: 0.4972 - accuracy: 0.8258 - val_loss: 0.5196 - val_accuracy: 0.8195\n",
            "Epoch 8/30\n",
            "313/313 [==============================] - 3s 10ms/step - loss: 0.4812 - accuracy: 0.8345 - val_loss: 0.4936 - val_accuracy: 0.8337\n",
            "Epoch 9/30\n",
            "313/313 [==============================] - 3s 10ms/step - loss: 0.4642 - accuracy: 0.8411 - val_loss: 0.4859 - val_accuracy: 0.8279\n",
            "Epoch 10/30\n",
            "313/313 [==============================] - 4s 12ms/step - loss: 0.4546 - accuracy: 0.8397 - val_loss: 0.4880 - val_accuracy: 0.8300\n",
            "Epoch 11/30\n",
            "313/313 [==============================] - 3s 10ms/step - loss: 0.4395 - accuracy: 0.8479 - val_loss: 0.5021 - val_accuracy: 0.8296\n",
            "Epoch 12/30\n",
            "313/313 [==============================] - 3s 11ms/step - loss: 0.4329 - accuracy: 0.8505 - val_loss: 0.4757 - val_accuracy: 0.8333\n",
            "Epoch 13/30\n",
            "313/313 [==============================] - 4s 11ms/step - loss: 0.4201 - accuracy: 0.8567 - val_loss: 0.4582 - val_accuracy: 0.8429\n",
            "Epoch 14/30\n",
            "313/313 [==============================] - 3s 9ms/step - loss: 0.4135 - accuracy: 0.8585 - val_loss: 0.4680 - val_accuracy: 0.8326\n",
            "Epoch 15/30\n",
            "313/313 [==============================] - 3s 9ms/step - loss: 0.4042 - accuracy: 0.8573 - val_loss: 0.4425 - val_accuracy: 0.8473\n",
            "Epoch 16/30\n",
            "313/313 [==============================] - 3s 11ms/step - loss: 0.3972 - accuracy: 0.8653 - val_loss: 0.4351 - val_accuracy: 0.8497\n",
            "Epoch 17/30\n",
            "313/313 [==============================] - 3s 9ms/step - loss: 0.3905 - accuracy: 0.8653 - val_loss: 0.4413 - val_accuracy: 0.8468\n",
            "Epoch 18/30\n",
            "313/313 [==============================] - 3s 11ms/step - loss: 0.3886 - accuracy: 0.8675 - val_loss: 0.4526 - val_accuracy: 0.8459\n",
            "Epoch 19/30\n",
            "313/313 [==============================] - 3s 10ms/step - loss: 0.3822 - accuracy: 0.8695 - val_loss: 0.4569 - val_accuracy: 0.8419\n",
            "Epoch 20/30\n",
            "313/313 [==============================] - 3s 10ms/step - loss: 0.3724 - accuracy: 0.8724 - val_loss: 0.4225 - val_accuracy: 0.8530\n",
            "Epoch 21/30\n",
            "313/313 [==============================] - 3s 10ms/step - loss: 0.3642 - accuracy: 0.8745 - val_loss: 0.4201 - val_accuracy: 0.8549\n",
            "Epoch 22/30\n",
            "313/313 [==============================] - 3s 10ms/step - loss: 0.3621 - accuracy: 0.8749 - val_loss: 0.4239 - val_accuracy: 0.8535\n",
            "Epoch 23/30\n",
            "313/313 [==============================] - 3s 10ms/step - loss: 0.3537 - accuracy: 0.8760 - val_loss: 0.4376 - val_accuracy: 0.8483\n",
            "Epoch 24/30\n",
            "313/313 [==============================] - 3s 10ms/step - loss: 0.3497 - accuracy: 0.8789 - val_loss: 0.4529 - val_accuracy: 0.8365\n",
            "Epoch 25/30\n",
            "313/313 [==============================] - 4s 12ms/step - loss: 0.3439 - accuracy: 0.8798 - val_loss: 0.4199 - val_accuracy: 0.8538\n",
            "Epoch 26/30\n",
            "313/313 [==============================] - 4s 12ms/step - loss: 0.3424 - accuracy: 0.8804 - val_loss: 0.4396 - val_accuracy: 0.8468\n",
            "Epoch 27/30\n",
            "313/313 [==============================] - 4s 11ms/step - loss: 0.3351 - accuracy: 0.8849 - val_loss: 0.4098 - val_accuracy: 0.8597\n",
            "Epoch 28/30\n",
            "313/313 [==============================] - 4s 12ms/step - loss: 0.3328 - accuracy: 0.8832 - val_loss: 0.4476 - val_accuracy: 0.8424\n",
            "Epoch 29/30\n",
            "313/313 [==============================] - 3s 11ms/step - loss: 0.3271 - accuracy: 0.8865 - val_loss: 0.4289 - val_accuracy: 0.8534\n",
            "Epoch 30/30\n",
            "313/313 [==============================] - 4s 13ms/step - loss: 0.3173 - accuracy: 0.8885 - val_loss: 0.4350 - val_accuracy: 0.8463\n"
          ],
          "name": "stdout"
        }
      ]
    },
    {
      "cell_type": "markdown",
      "metadata": {
        "id": "PeW3c1jZiqOG"
      },
      "source": [
        "**Note:** The fit method returns a History object containing the training parameters (history.params), the list of epochs it went through(history.epoch), and most importantly a dictionary(history.history) containing loss and extra metrics it measured."
      ]
    },
    {
      "cell_type": "code",
      "metadata": {
        "colab": {
          "base_uri": "https://localhost:8080/",
          "height": 324
        },
        "id": "BXwwyeGwh9M5",
        "outputId": "1b2c02a1-a42a-47d4-9f95-ec63b89ba795"
      },
      "source": [
        "import pandas as pd\n",
        "import matplotlib.pyplot as plt\n",
        "\n",
        "pd.DataFrame(history.history).plot(figsize=(8,5))\n",
        "plt.grid(True)\n",
        "plt.gca().set_ylim(0,1) #set the vertical range to [0-1]\n",
        "plt.show() "
      ],
      "execution_count": 30,
      "outputs": [
        {
          "output_type": "display_data",
          "data": {
            "image/png": "[encoded data removed]",
            "text/plain": [
              "<Figure size 576x360 with 1 Axes>"
            ]
          },
          "metadata": {
            "needs_background": "light"
          }
        }
      ]
    },
    {
      "cell_type": "code",
      "metadata": {
        "colab": {
          "base_uri": "https://localhost:8080/"
        },
        "id": "ltlcswINk8-m",
        "outputId": "904d6cf0-30e0-42d6-eefa-8ff7faa4253a"
      },
      "source": [
        "model.evaluate(X_test,y_test)"
      ],
      "execution_count": 31,
      "outputs": [
        {
          "output_type": "stream",
          "text": [
            "313/313 [==============================] - 1s 2ms/step - loss: 76.1583 - accuracy: 0.8229\n"
          ],
          "name": "stdout"
        },
        {
          "output_type": "execute_result",
          "data": {
            "text/plain": [
              "[76.15834045410156, 0.8228999972343445]"
            ]
          },
          "metadata": {},
          "execution_count": 31
        }
      ]
    },
    {
      "cell_type": "code",
      "metadata": {
        "colab": {
          "base_uri": "https://localhost:8080/"
        },
        "id": "b9VmHyMHlr8g",
        "outputId": "33801d99-7e32-45ac-9b28-47c36d0f5e02"
      },
      "source": [
        "\n",
        "X_new = X_test[:3]\n",
        "y_proba = model.predict(X_new)\n",
        "y_proba.round(2)"
      ],
      "execution_count": 32,
      "outputs": [
        {
          "output_type": "execute_result",
          "data": {
            "text/plain": [
              "array([[0., 0., 0., 0., 0., 0., 0., 0., 0., 1.],\n",
              "       [0., 0., 1., 0., 0., 0., 0., 0., 0., 0.],\n",
              "       [0., 1., 0., 0., 0., 0., 0., 0., 0., 0.]], dtype=float32)"
            ]
          },
          "metadata": {},
          "execution_count": 32
        }
      ]
    },
    {
      "cell_type": "code",
      "metadata": {
        "colab": {
          "base_uri": "https://localhost:8080/"
        },
        "id": "Yf0CU9lzl_Fn",
        "outputId": "35ef2c14-56c3-4f35-9d11-f44129f0629c"
      },
      "source": [
        "import numpy as np\n",
        "\n",
        "y_pred = np.argmax(model.predict(X_new), axis=-1)\n",
        "y_pred"
      ],
      "execution_count": 35,
      "outputs": [
        {
          "output_type": "execute_result",
          "data": {
            "text/plain": [
              "array([9, 2, 1])"
            ]
          },
          "metadata": {},
          "execution_count": 35
        }
      ]
    },
    {
      "cell_type": "code",
      "metadata": {
        "colab": {
          "base_uri": "https://localhost:8080/"
        },
        "id": "8XWjDxq_mO6R",
        "outputId": "873b8750-8864-4d10-b4de-f8c359448962"
      },
      "source": [
        "np.array(class_names)[y_pred]"
      ],
      "execution_count": 36,
      "outputs": [
        {
          "output_type": "execute_result",
          "data": {
            "text/plain": [
              "array(['Ankle boot', 'Pullover', 'Trouser'], dtype='<U11')"
            ]
          },
          "metadata": {},
          "execution_count": 36
        }
      ]
    },
    {
      "cell_type": "code",
      "metadata": {
        "colab": {
          "base_uri": "https://localhost:8080/",
          "height": 761
        },
        "id": "ztDK8yVynExX",
        "outputId": "023f408e-3123-473c-b5b1-f2286e96e8eb"
      },
      "source": [
        "\n",
        "\n",
        "for i in range(3):\n",
        "  image = X_new[i]\n",
        "  # plot the sample\n",
        "  fig = plt.figure\n",
        "  plt.imshow(image, cmap='gray')\n",
        "  plt.show()"
      ],
      "execution_count": 42,
      "outputs": [
        {
          "output_type": "display_data",
          "data": {
            "image/png": "[encoded data removed]",
            "text/plain": [
              "<Figure size 432x288 with 1 Axes>"
            ]
          },
          "metadata": {
            "needs_background": "light"
          }
        },
        {
          "output_type": "display_data",
          "data": {
            "image/png": "[encoded data removed]",
            "text/plain": [
              "<Figure size 432x288 with 1 Axes>"
            ]
          },
          "metadata": {
            "needs_background": "light"
          }
        },
        {
          "output_type": "display_data",
          "data": {
            "image/png": "[encoded data removed]",
            "text/plain": [
              "<Figure size 432x288 with 1 Axes>"
            ]
          },
          "metadata": {
            "needs_background": "light"
          }
        }
      ]
    },
    {
      "cell_type": "code",
      "metadata": {
        "id": "sRYyxStQnlly"
      },
      "source": [
        ""
      ],
      "execution_count": null,
      "outputs": []
    }
  ]
}