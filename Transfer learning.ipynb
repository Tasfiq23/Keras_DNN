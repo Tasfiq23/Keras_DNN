{
  "nbformat": 4,
  "nbformat_minor": 0,
  "metadata": {
    "colab": {
      "name": "Untitled0.ipynb",
      "provenance": [],
      "authorship_tag": "ABX9TyOdHaluaTA9ydmyFvYtgxZ8",
      "include_colab_link": true
    },
    "kernelspec": {
      "name": "python3",
      "display_name": "Python 3"
    },
    "language_info": {
      "name": "python"
    },
    "accelerator": "GPU"
  },
  "cells": [
    {
      "cell_type": "markdown",
      "metadata": {
        "id": "view-in-github",
        "colab_type": "text"
      },
      "source": [
        "<a href=\"https://colab.research.google.com/github/Tasfiq23/Keras_DNN/blob/main/Transfer%20learning.ipynb\" target=\"_parent\"><img src=\"https://colab.research.google.com/assets/colab-badge.svg\" alt=\"Open In Colab\"/></a>"
      ]
    },
    {
      "cell_type": "code",
      "metadata": {
        "colab": {
          "base_uri": "https://localhost:8080/"
        },
        "id": "wWHX1uv7H9KL",
        "outputId": "3774aa5b-073d-44db-fb76-71d28867409c"
      },
      "source": [
        "# Get data (10% of labels)\n",
        "import zipfile\n",
        "\n",
        "# Download data\n",
        "!wget https://storage.googleapis.com/ztm_tf_course/food_vision/10_food_classes_10_percent.zip\n",
        "\n",
        "# Unzip the downloaded file\n",
        "zip_ref = zipfile.ZipFile(\"10_food_classes_10_percent.zip\", \"r\")\n",
        "zip_ref.extractall()\n",
        "zip_ref.close()"
      ],
      "execution_count": 22,
      "outputs": [
        {
          "output_type": "stream",
          "name": "stdout",
          "text": [
            "--2021-09-07 02:32:35--  https://storage.googleapis.com/ztm_tf_course/food_vision/10_food_classes_10_percent.zip\n",
            "Resolving storage.googleapis.com (storage.googleapis.com)... 142.250.128.128, 142.251.6.128, 74.125.126.128, ...\n",
            "Connecting to storage.googleapis.com (storage.googleapis.com)|142.250.128.128|:443... connected.\n",
            "HTTP request sent, awaiting response... 200 OK\n",
            "Length: 168546183 (161M) [application/zip]\n",
            "Saving to: ‘10_food_classes_10_percent.zip.1’\n",
            "\n",
            "10_food_classes_10_ 100%[===================>] 160.74M   154MB/s    in 1.0s    \n",
            "\n",
            "2021-09-07 02:32:36 (154 MB/s) - ‘10_food_classes_10_percent.zip.1’ saved [168546183/168546183]\n",
            "\n"
          ]
        }
      ]
    },
    {
      "cell_type": "code",
      "metadata": {
        "colab": {
          "base_uri": "https://localhost:8080/"
        },
        "id": "26aUuAsLajUa",
        "outputId": "0e1a06f9-60e9-40a8-8b42-d375b91257b0"
      },
      "source": [
        "#how many images in each folder\n",
        "import os\n",
        "\n",
        "#walk through 10 percent of data directory adn list number of files\n",
        "for dirpath,dirnames,filenames in os.walk('/content/10_food_classes_10_percent'):\n",
        "  print(f\"this {dirpath} has {len(dirnames)} directories and {len(filenames)} files\")\n",
        "  "
      ],
      "execution_count": 23,
      "outputs": [
        {
          "output_type": "stream",
          "name": "stdout",
          "text": [
            "this /content/10_food_classes_10_percent has 2 directories and 0 files\n",
            "this /content/10_food_classes_10_percent/train has 10 directories and 0 files\n",
            "this /content/10_food_classes_10_percent/train/sushi has 0 directories and 75 files\n",
            "this /content/10_food_classes_10_percent/train/fried_rice has 0 directories and 75 files\n",
            "this /content/10_food_classes_10_percent/train/ramen has 0 directories and 75 files\n",
            "this /content/10_food_classes_10_percent/train/pizza has 0 directories and 75 files\n",
            "this /content/10_food_classes_10_percent/train/chicken_wings has 0 directories and 75 files\n",
            "this /content/10_food_classes_10_percent/train/hamburger has 0 directories and 75 files\n",
            "this /content/10_food_classes_10_percent/train/steak has 0 directories and 75 files\n",
            "this /content/10_food_classes_10_percent/train/chicken_curry has 0 directories and 75 files\n",
            "this /content/10_food_classes_10_percent/train/ice_cream has 0 directories and 75 files\n",
            "this /content/10_food_classes_10_percent/train/grilled_salmon has 0 directories and 75 files\n",
            "this /content/10_food_classes_10_percent/test has 10 directories and 0 files\n",
            "this /content/10_food_classes_10_percent/test/sushi has 0 directories and 250 files\n",
            "this /content/10_food_classes_10_percent/test/fried_rice has 0 directories and 250 files\n",
            "this /content/10_food_classes_10_percent/test/ramen has 0 directories and 250 files\n",
            "this /content/10_food_classes_10_percent/test/pizza has 0 directories and 250 files\n",
            "this /content/10_food_classes_10_percent/test/chicken_wings has 0 directories and 250 files\n",
            "this /content/10_food_classes_10_percent/test/hamburger has 0 directories and 250 files\n",
            "this /content/10_food_classes_10_percent/test/steak has 0 directories and 250 files\n",
            "this /content/10_food_classes_10_percent/test/chicken_curry has 0 directories and 250 files\n",
            "this /content/10_food_classes_10_percent/test/ice_cream has 0 directories and 250 files\n",
            "this /content/10_food_classes_10_percent/test/grilled_salmon has 0 directories and 250 files\n"
          ]
        }
      ]
    },
    {
      "cell_type": "code",
      "metadata": {
        "colab": {
          "base_uri": "https://localhost:8080/"
        },
        "id": "l2oC_yFFcALy",
        "outputId": "a3b9c935-d15b-4965-8e65-19ca63d72d31"
      },
      "source": [
        "# creating data loaders(preparing the data)\n",
        "from tensorflow.keras.preprocessing.image import ImageDataGenerator\n",
        "\n",
        "IMAGE_SHAPE =(224,224)\n",
        "BATCH_SIZE = 32\n",
        "\n",
        "train_dir= \"10_food_classes_10_percent/train\"\n",
        "test_dir= \"10_food_classes_10_percent/test\"\n",
        "\n",
        "train_datagen = ImageDataGenerator(rescale= 1/225.,\n",
        "                                   rotation_range=20,\n",
        "                                   shear_range=0.2,\n",
        "                                   horizontal_flip=True,\n",
        "                                   )\n",
        "test_datagen = ImageDataGenerator(rescale= 1/225.)\n",
        "\n",
        "train_data_10_percent = train_datagen.flow_from_directory(train_dir,\n",
        "                                                          target_size=IMAGE_SHAPE,\n",
        "                                                          class_mode='categorical',\n",
        "                                                          batch_size=BATCH_SIZE)\n",
        "\n",
        "test_data_10_percent = test_datagen.flow_from_directory(test_dir,\n",
        "                                                          target_size=IMAGE_SHAPE,\n",
        "                                                          class_mode='categorical',\n",
        "                                                          batch_size=BATCH_SIZE)\n"
      ],
      "execution_count": 24,
      "outputs": [
        {
          "output_type": "stream",
          "name": "stdout",
          "text": [
            "Found 750 images belonging to 10 classes.\n",
            "Found 2500 images belonging to 10 classes.\n"
          ]
        }
      ]
    },
    {
      "cell_type": "code",
      "metadata": {
        "id": "lZ8QxS0xdrO8"
      },
      "source": [
        "#Setting up callbacks\n",
        "\n",
        "import datetime\n",
        "\n",
        "def create_tensorboard_callback(dir_name, experiment_name):\n",
        "  log_dir= dir_name +\"/\" + experiment_name + \"/\" + datetime.datetime.now().strftime(\"%Y%m%d-%H%M%S\")\n",
        "  tensorboard_callback = tf.keras.callbacks.TensorBoard(log_dir=log_dir)\n",
        "  print(f\"Saving TensorBoard log files to : {log_dir} \")\n",
        "  return tensorboard_callback\n"
      ],
      "execution_count": 25,
      "outputs": []
    },
    {
      "cell_type": "markdown",
      "metadata": {
        "id": "-S-S8wOe3DOZ"
      },
      "source": [
        "Comparing two models\n",
        "\n",
        "efficientnet/b0 : https://tfhub.dev/tensorflow/efficientnet/b0/feature-vector/1\n",
        " Restnet V2 50 :  https://tfhub.dev/google/imagenet/resnet_v2_50/feature_vector/5"
      ]
    },
    {
      "cell_type": "code",
      "metadata": {
        "id": "zPrxJYVf3CxM"
      },
      "source": [
        " resnet_url = \"https://tfhub.dev/google/imagenet/resnet_v2_50/feature_vector/5\"\n",
        " efficientnet_url = \"https://tfhub.dev/tensorflow/efficientnet/b0/feature-vector/1\""
      ],
      "execution_count": 26,
      "outputs": []
    },
    {
      "cell_type": "code",
      "metadata": {
        "id": "ZVATfdvLuniF"
      },
      "source": [
        "# import dependencies \n",
        "\n",
        "import tensorflow as tf\n",
        "import tensorflow_hub as hub\n",
        "from tensorflow.keras import layers"
      ],
      "execution_count": 27,
      "outputs": []
    },
    {
      "cell_type": "code",
      "metadata": {
        "id": "RRBQP3154Gob"
      },
      "source": [
        "\n",
        "def create_model(model_url,num_classes=10):\n",
        "  \"\"\"\n",
        "  Takes a TensorFlow Hub URL and creates a Keras Sequential model with it.\n",
        "\n",
        "  Args:\n",
        "  model_url(str): A TensorFlow Hub feature extraction URL.\n",
        "  num_classes(int): Number of output neurons in the output layer,\n",
        "  should be equal to number of target classes, default 10.\n",
        "\n",
        "  Returns:\n",
        "  An incompiled Keras Sequential model with model_url as feature extractor layer\n",
        "  and Dense output layer with num_classes output neurons.\n",
        "  \"\"\"\n",
        "  #Download the pre trained model\n",
        "\n",
        "  feature_extractor_layer = hub.KerasLayer(model_url,\n",
        "                                           trainable=False,#Freeze already learned patterns\n",
        "                                           name ='feature_extraction_layer',\n",
        "                                           input_shape = IMAGE_SHAPE + (3,)) \n",
        "  \n",
        "  #Create our own model\n",
        "\n",
        "  model = tf.keras.Sequential([\n",
        "           feature_extractor_layer,\n",
        "           layers.Dense(num_classes,activation='softmax',name='output_layer')                    \n",
        "  ])\n",
        "\n",
        "  return model\n"
      ],
      "execution_count": 28,
      "outputs": []
    },
    {
      "cell_type": "code",
      "metadata": {
        "id": "dmfa_Esq7I8r"
      },
      "source": [
        "#create Resnet model\n",
        "\n",
        "resnet_model = create_model(resnet_url,num_classes= train_data_10_percent.num_classes)"
      ],
      "execution_count": 29,
      "outputs": []
    },
    {
      "cell_type": "code",
      "metadata": {
        "colab": {
          "base_uri": "https://localhost:8080/"
        },
        "id": "LuIodTRm7viN",
        "outputId": "dff70628-52c6-4d80-af77-a8c4ec40eccc"
      },
      "source": [
        "resnet_model.summary()"
      ],
      "execution_count": 30,
      "outputs": [
        {
          "output_type": "stream",
          "name": "stdout",
          "text": [
            "Model: \"sequential_1\"\n",
            "_________________________________________________________________\n",
            "Layer (type)                 Output Shape              Param #   \n",
            "=================================================================\n",
            "feature_extraction_layer (Ke (None, 2048)              23564800  \n",
            "_________________________________________________________________\n",
            "output_layer (Dense)         (None, 10)                20490     \n",
            "=================================================================\n",
            "Total params: 23,585,290\n",
            "Trainable params: 20,490\n",
            "Non-trainable params: 23,564,800\n",
            "_________________________________________________________________\n"
          ]
        }
      ]
    },
    {
      "cell_type": "code",
      "metadata": {
        "id": "LTJuiUQq8OJ3"
      },
      "source": [
        "#compile our resnet model\n",
        "\n",
        "resnet_model.compile(loss= \"categorical_crossentropy\",\n",
        "                     optimizer=\"Adam\",\n",
        "                     metrics=[\"accuracy\"])"
      ],
      "execution_count": 31,
      "outputs": []
    },
    {
      "cell_type": "code",
      "metadata": {
        "colab": {
          "base_uri": "https://localhost:8080/"
        },
        "id": "GO0u6ECa8mHX",
        "outputId": "5411236b-2e2a-46e1-c021-2d0c7550ffb3"
      },
      "source": [
        "resnet_history=resnet_model.fit(train_data_10_percent ,\n",
        "                 steps_per_epoch=len(train_data_10_percent ),\n",
        "                 epochs=10,\n",
        "                 validation_data=test_data_10_percent,\n",
        "                 validation_steps=len(test_data_10_percent),\n",
        "                 callbacks=[create_tensorboard_callback(dir_name='tensorflow_hub',\n",
        "                                                        experiment_name = 'resnetV250')])"
      ],
      "execution_count": 32,
      "outputs": [
        {
          "output_type": "stream",
          "name": "stdout",
          "text": [
            "Saving TensorBoard log files to : tensorflow_hub/resnetV250/20210907-023242 \n",
            "Epoch 1/10\n",
            "24/24 [==============================] - 34s 1s/step - loss: 1.8975 - accuracy: 0.3547 - val_loss: 1.2332 - val_accuracy: 0.6032\n",
            "Epoch 2/10\n",
            "24/24 [==============================] - 28s 1s/step - loss: 1.0061 - accuracy: 0.6907 - val_loss: 0.8607 - val_accuracy: 0.7320\n",
            "Epoch 3/10\n",
            "24/24 [==============================] - 28s 1s/step - loss: 0.7413 - accuracy: 0.7653 - val_loss: 0.7503 - val_accuracy: 0.7704\n",
            "Epoch 4/10\n",
            "24/24 [==============================] - 28s 1s/step - loss: 0.6319 - accuracy: 0.8040 - val_loss: 0.6929 - val_accuracy: 0.7840\n",
            "Epoch 5/10\n",
            "24/24 [==============================] - 28s 1s/step - loss: 0.5126 - accuracy: 0.8520 - val_loss: 0.6575 - val_accuracy: 0.7940\n",
            "Epoch 6/10\n",
            "24/24 [==============================] - 28s 1s/step - loss: 0.4304 - accuracy: 0.8907 - val_loss: 0.6485 - val_accuracy: 0.7952\n",
            "Epoch 7/10\n",
            "24/24 [==============================] - 27s 1s/step - loss: 0.3894 - accuracy: 0.9040 - val_loss: 0.6353 - val_accuracy: 0.7960\n",
            "Epoch 8/10\n",
            "24/24 [==============================] - 28s 1s/step - loss: 0.3545 - accuracy: 0.9227 - val_loss: 0.6300 - val_accuracy: 0.7988\n",
            "Epoch 9/10\n",
            "24/24 [==============================] - 27s 1s/step - loss: 0.3118 - accuracy: 0.9227 - val_loss: 0.6193 - val_accuracy: 0.7992\n",
            "Epoch 10/10\n",
            "24/24 [==============================] - 27s 1s/step - loss: 0.2984 - accuracy: 0.9227 - val_loss: 0.6276 - val_accuracy: 0.7912\n"
          ]
        }
      ]
    },
    {
      "cell_type": "code",
      "metadata": {
        "id": "fICKgnLH-Qrl"
      },
      "source": [
        "import matplotlib.pyplot as plt\n",
        "\n",
        "\n",
        "def plot_loss_curves(history):\n",
        "\n",
        "  loss= history.history['loss']\n",
        "  val_loss = history.history['val_loss']\n",
        "\n",
        "  accuracy= history.history['accuracy']\n",
        "  val_accuracy = history.history['val_accuracy']\n",
        "\n",
        "  epochs = range(len(history.history['loss']))\n",
        "\n",
        "  #plot loss\n",
        "\n",
        "  plt.plot(epochs,loss,label='training_loss')\n",
        "  plt.plot(epochs,val_loss,label='val_loss')\n",
        "  plt.title('Loss')\n",
        "  plt.xlabel('Epochs')\n",
        "  plt.legend()\n",
        "\n",
        "  \n",
        "  #plot accuracy\n",
        "  plt.figure()\n",
        "  plt.plot(epochs,accuracy,label='training_accuracy')\n",
        "  plt.plot(epochs,val_accuracy,label='val_accuracy')\n",
        "  plt.title('Accurcy')\n",
        "  plt.xlabel('Epochs')\n",
        "  plt.legend();\n"
      ],
      "execution_count": 36,
      "outputs": []
    },
    {
      "cell_type": "code",
      "metadata": {
        "colab": {
          "base_uri": "https://localhost:8080/",
          "height": 573
        },
        "id": "3SETgRFhGVJo",
        "outputId": "6b9a2365-0eee-44d1-fb19-36309a2e63fd"
      },
      "source": [
        "plot_loss_curves(resnet_history)"
      ],
      "execution_count": 37,
      "outputs": [
        {
          "output_type": "display_data",
          "data": {
            "image/png": "[encoded data removed]",
            "text/plain": [
              "<Figure size 432x288 with 1 Axes>"
            ]
          },
          "metadata": {
            "needs_background": "light"
          }
        },
        {
          "output_type": "display_data",
          "data": {
            "image/png": "[encoded data removed]",
            "text/plain": [
              "<Figure size 432x288 with 1 Axes>"
            ]
          },
          "metadata": {
            "needs_background": "light"
          }
        }
      ]
    },
    {
      "cell_type": "code",
      "metadata": {
        "id": "kQ1JhCfqIW21"
      },
      "source": [
        "#Create a efficient net model\n",
        "\n",
        "efficientnet_model = create_model(efficientnet_url,num_classes= train_data_10_percent.num_classes)"
      ],
      "execution_count": 38,
      "outputs": []
    },
    {
      "cell_type": "code",
      "metadata": {
        "colab": {
          "base_uri": "https://localhost:8080/"
        },
        "id": "Hok5HDTgIpeV",
        "outputId": "15864e68-463f-4f15-ad3e-b224293f845a"
      },
      "source": [
        "efficientnet_model.summary()"
      ],
      "execution_count": 39,
      "outputs": [
        {
          "output_type": "stream",
          "name": "stdout",
          "text": [
            "Model: \"sequential_2\"\n",
            "_________________________________________________________________\n",
            "Layer (type)                 Output Shape              Param #   \n",
            "=================================================================\n",
            "feature_extraction_layer (Ke (None, 1280)              4049564   \n",
            "_________________________________________________________________\n",
            "output_layer (Dense)         (None, 10)                12810     \n",
            "=================================================================\n",
            "Total params: 4,062,374\n",
            "Trainable params: 12,810\n",
            "Non-trainable params: 4,049,564\n",
            "_________________________________________________________________\n"
          ]
        }
      ]
    },
    {
      "cell_type": "code",
      "metadata": {
        "id": "anO7QdsLIxEE"
      },
      "source": [
        "#compile our efficientnet model\n",
        "\n",
        "efficientnet_model.compile(loss= \"categorical_crossentropy\",\n",
        "                     optimizer=\"Adam\",\n",
        "                     metrics=[\"accuracy\"])"
      ],
      "execution_count": 40,
      "outputs": []
    },
    {
      "cell_type": "code",
      "metadata": {
        "colab": {
          "base_uri": "https://localhost:8080/"
        },
        "id": "Mv8dmDpyI9my",
        "outputId": "ba7e94c5-987a-4c29-c151-2b532ad8691a"
      },
      "source": [
        "efficientnet_history=efficientnet_model.fit(train_data_10_percent ,\n",
        "                 steps_per_epoch=len(train_data_10_percent ),\n",
        "                 epochs=10,\n",
        "                 validation_data=test_data_10_percent,\n",
        "                 validation_steps=len(test_data_10_percent),\n",
        "                 callbacks=[create_tensorboard_callback(dir_name='tensorflow_hub',\n",
        "                                                        experiment_name = 'efficientnetb0')])"
      ],
      "execution_count": 41,
      "outputs": [
        {
          "output_type": "stream",
          "name": "stdout",
          "text": [
            "Saving TensorBoard log files to : tensorflow_hub/efficientnetb0/20210907-024527 \n",
            "Epoch 1/10\n",
            "24/24 [==============================] - 40s 1s/step - loss: 1.8418 - accuracy: 0.4307 - val_loss: 1.3162 - val_accuracy: 0.7112\n",
            "Epoch 2/10\n",
            "24/24 [==============================] - 32s 1s/step - loss: 1.1381 - accuracy: 0.7293 - val_loss: 0.9019 - val_accuracy: 0.8064\n",
            "Epoch 3/10\n",
            "24/24 [==============================] - 25s 1s/step - loss: 0.8244 - accuracy: 0.8120 - val_loss: 0.7278 - val_accuracy: 0.8352\n",
            "Epoch 4/10\n",
            "24/24 [==============================] - 25s 1s/step - loss: 0.7108 - accuracy: 0.8267 - val_loss: 0.6408 - val_accuracy: 0.8436\n",
            "Epoch 5/10\n",
            "24/24 [==============================] - 25s 1s/step - loss: 0.5989 - accuracy: 0.8600 - val_loss: 0.5863 - val_accuracy: 0.8480\n",
            "Epoch 6/10\n",
            "24/24 [==============================] - 24s 1s/step - loss: 0.5241 - accuracy: 0.8773 - val_loss: 0.5497 - val_accuracy: 0.8512\n",
            "Epoch 7/10\n",
            "24/24 [==============================] - 32s 1s/step - loss: 0.4777 - accuracy: 0.8933 - val_loss: 0.5238 - val_accuracy: 0.8560\n",
            "Epoch 8/10\n",
            "24/24 [==============================] - 25s 1s/step - loss: 0.4338 - accuracy: 0.9107 - val_loss: 0.5015 - val_accuracy: 0.8564\n",
            "Epoch 9/10\n",
            "24/24 [==============================] - 24s 1s/step - loss: 0.4074 - accuracy: 0.9040 - val_loss: 0.4880 - val_accuracy: 0.8576\n",
            "Epoch 10/10\n",
            "24/24 [==============================] - 25s 1s/step - loss: 0.3569 - accuracy: 0.9253 - val_loss: 0.4755 - val_accuracy: 0.8584\n"
          ]
        }
      ]
    },
    {
      "cell_type": "code",
      "metadata": {
        "colab": {
          "base_uri": "https://localhost:8080/",
          "height": 573
        },
        "id": "IKkakOh1JdWo",
        "outputId": "c7ab8693-cf6f-4248-bf49-81f71451bfcb"
      },
      "source": [
        "plot_loss_curves(efficientnet_history)"
      ],
      "execution_count": 42,
      "outputs": [
        {
          "output_type": "display_data",
          "data": {
            "image/png": "[encoded data removed]",
            "text/plain": [
              "<Figure size 432x288 with 1 Axes>"
            ]
          },
          "metadata": {
            "needs_background": "light"
          }
        },
        {
          "output_type": "display_data",
          "data": {
            "image/png": "[encoded data removed]",
            "text/plain": [
              "<Figure size 432x288 with 1 Axes>"
            ]
          },
          "metadata": {
            "needs_background": "light"
          }
        }
      ]
    }
  ]
}